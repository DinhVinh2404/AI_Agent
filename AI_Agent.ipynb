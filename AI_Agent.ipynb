{
  "nbformat": 4,
  "nbformat_minor": 0,
  "metadata": {
    "colab": {
      "provenance": [],
      "gpuType": "T4",
      "authorship_tag": "ABX9TyP1NAn2Vm04iQ+RRULaYYHs",
      "include_colab_link": true
    },
    "kernelspec": {
      "name": "python3",
      "display_name": "Python 3"
    },
    "language_info": {
      "name": "python"
    },
    "accelerator": "GPU"
  },
  "cells": [
    {
      "cell_type": "markdown",
      "metadata": {
        "id": "view-in-github",
        "colab_type": "text"
      },
      "source": [
        "<a href=\"https://colab.research.google.com/github/DinhVinh2404/AI_Agent/blob/main/AI_Agent.ipynb\" target=\"_parent\"><img src=\"https://colab.research.google.com/assets/colab-badge.svg\" alt=\"Open In Colab\"/></a>"
      ]
    },
    {
      "cell_type": "code",
      "execution_count": null,
      "metadata": {
        "collapsed": true,
        "id": "hobu9rF37ha4"
      },
      "outputs": [],
      "source": [
        "%pip install python-dotenv\n",
        "%pip install langgraph\n",
        "%pip install langchain-openai\n",
        "%pip install langchain-community"
      ]
    },
    {
      "cell_type": "code",
      "source": [
        "!pip install -U langchain-tavily"
      ],
      "metadata": {
        "collapsed": true,
        "id": "YXcm4mEIsLWx"
      },
      "execution_count": null,
      "outputs": []
    },
    {
      "cell_type": "code",
      "source": [
        "# !pip install -U langchain-together\n",
        "!pip install -U langchain-google-genai"
      ],
      "metadata": {
        "collapsed": true,
        "id": "ym0JRkCxw9Aa"
      },
      "execution_count": null,
      "outputs": []
    },
    {
      "cell_type": "code",
      "source": [
        "from langgraph.graph import StateGraph, END\n",
        "from typing import TypedDict, Annotated\n",
        "import operator\n",
        "from langchain_core.messages import AnyMessage, SystemMessage, HumanMessage, ToolMessage\n",
        "from langchain_google_genai import ChatGoogleGenerativeAI\n",
        "from langchain_tavily import TavilySearch"
      ],
      "metadata": {
        "id": "kgUJmr7l8P8o"
      },
      "execution_count": 29,
      "outputs": []
    },
    {
      "cell_type": "code",
      "source": [
        "from dotenv import load_dotenv\n",
        "_ = load_dotenv()"
      ],
      "metadata": {
        "id": "r9Yn2eRA76QF"
      },
      "execution_count": 28,
      "outputs": []
    },
    {
      "cell_type": "code",
      "source": [
        "from google.colab import userdata\n",
        "userdata.get('OPENAI_API_KEY')"
      ],
      "metadata": {
        "id": "BjNwsoQaLNUT"
      },
      "execution_count": null,
      "outputs": []
    },
    {
      "cell_type": "markdown",
      "source": [
        "**SET TOOLS**"
      ],
      "metadata": {
        "id": "AZD1UbnqrF18"
      }
    },
    {
      "cell_type": "code",
      "source": [
        "tavily_api_key = userdata.get('TAVILY_API_KEY')\n",
        "tool = TavilySearch(max_results=4, tavily_api_key=tavily_api_key)"
      ],
      "metadata": {
        "id": "xuSIElaJAbx-"
      },
      "execution_count": 9,
      "outputs": []
    },
    {
      "cell_type": "code",
      "source": [
        "class AgentState(TypedDict):\n",
        "    messages: Annotated[list[AnyMessage], operator.add]"
      ],
      "metadata": {
        "id": "2Zn-msENoUT_"
      },
      "execution_count": 10,
      "outputs": []
    },
    {
      "cell_type": "code",
      "source": [
        "class Agent:\n",
        "\n",
        "    def __init__(self, model, tools, system=\"\"):\n",
        "        self.system = system\n",
        "        graph = StateGraph(AgentState)\n",
        "        graph.add_node(\"llm\", self.call_openai)\n",
        "        graph.add_node(\"action\", self.take_action)\n",
        "        graph.add_conditional_edges(\n",
        "            \"llm\",\n",
        "            self.exists_action,\n",
        "            {True: \"action\", False: END}\n",
        "        )\n",
        "        graph.add_edge(\"action\", \"llm\")\n",
        "        graph.set_entry_point(\"llm\")\n",
        "        self.graph = graph.compile()\n",
        "        self.tools = {t.name: t for t in tools}\n",
        "        self.model = model.bind_tools(tools)\n",
        "\n",
        "    def exists_action(self, state: AgentState):\n",
        "        result = state['messages'][-1]\n",
        "        return len(result.tool_calls) > 0\n",
        "\n",
        "    def call_openai(self, state: AgentState):\n",
        "        messages = state['messages']\n",
        "        if self.system:\n",
        "            messages = [SystemMessage(content=self.system)] + messages\n",
        "        message = self.model.invoke(messages)\n",
        "        return {'messages': [message]}\n",
        "\n",
        "    def take_action(self, state: AgentState):\n",
        "        tool_calls = state['messages'][-1].tool_calls\n",
        "        results = []\n",
        "        for t in tool_calls:\n",
        "            print(f\"Calling: {t}\")\n",
        "            if not t['name'] in self.tools:      # check for bad tool name from LLM\n",
        "                print(\"\\n ....bad tool name....\")\n",
        "                result = \"bad tool name, retry\"  # instruct LLM to retry if bad\n",
        "            else:\n",
        "                result = self.tools[t['name']].invoke(t['args'])\n",
        "            results.append(ToolMessage(tool_call_id=t['id'], name=t['name'], content=str(result)))\n",
        "        print(\"Back to the model!\")\n",
        "        return {'messages': results}"
      ],
      "metadata": {
        "id": "dkhXVpxCoYQ0"
      },
      "execution_count": 42,
      "outputs": []
    },
    {
      "cell_type": "code",
      "source": [
        "prompt = \"\"\"You are a smart research assistant. Use the search engine to look up information. \\\n",
        "You are allowed to make multiple calls (either together or in sequence). \\\n",
        "Only look up information when you are sure of what you want. \\\n",
        "If you need to look up some information before asking a follow up question, you are allowed to do that!\n",
        "\"\"\"\n",
        "model = ChatGoogleGenerativeAI(model=\"gemini-2.5-flash\", api_key= userdata.get('GOOGLE_API_KEY'))\n",
        "abot = Agent(model, [tool], system=prompt)\n",
        "from IPython.display import Image\n",
        "# Image(abot.graph.get_graph().draw_png())"
      ],
      "metadata": {
        "id": "csCFsxD8o9mV"
      },
      "execution_count": 58,
      "outputs": []
    },
    {
      "cell_type": "markdown",
      "source": [
        "**QUERY**"
      ],
      "metadata": {
        "id": "mxA7_kYyq4mo"
      }
    },
    {
      "cell_type": "code",
      "source": [
        "query = \"Lịch duyệt binh của Việt Nam gần nhất? Có bao nhiêu khối tham gia?\"\n",
        "messages = [HumanMessage(content=query)]\n",
        "result = abot.graph.invoke({\"messages\": messages})\n"
      ],
      "metadata": {
        "colab": {
          "base_uri": "https://localhost:8080/"
        },
        "id": "-94emMIpqTlG",
        "outputId": "87eaf019-9ac0-4cad-ec54-3ee3ca70521b"
      },
      "execution_count": 69,
      "outputs": [
        {
          "output_type": "stream",
          "name": "stdout",
          "text": [
            "Calling: {'name': 'tavily_search', 'args': {'query': 'Lịch duyệt binh của Việt Nam gần nhất? Có bao nhiêu khối tham gia?'}, 'id': '4bab2ba2-6fb3-4e04-b978-9fff4e5e9bec', 'type': 'tool_call'}\n",
            "Back to the model!\n"
          ]
        }
      ]
    },
    {
      "cell_type": "code",
      "source": [
        "result"
      ],
      "metadata": {
        "colab": {
          "base_uri": "https://localhost:8080/"
        },
        "id": "NC-WmlFw1t0q",
        "outputId": "85f9e720-4c16-4d30-8e65-b19d5c6c2787"
      },
      "execution_count": 70,
      "outputs": [
        {
          "output_type": "execute_result",
          "data": {
            "text/plain": [
              "{'messages': [HumanMessage(content='Lịch duyệt binh của Việt Nam gần nhất? Có bao nhiêu khối tham gia?', additional_kwargs={}, response_metadata={}),\n",
              "  AIMessage(content='', additional_kwargs={'function_call': {'name': 'tavily_search', 'arguments': '{\"query\": \"L\\\\u1ecbch duy\\\\u1ec7t binh c\\\\u1ee7a Vi\\\\u1ec7t Nam g\\\\u1ea7n nh\\\\u1ea5t? C\\\\u00f3 bao nhi\\\\u00eau kh\\\\u1ed1i tham gia?\"}'}}, response_metadata={'prompt_feedback': {'block_reason': 0, 'safety_ratings': []}, 'finish_reason': 'STOP', 'model_name': 'gemini-2.5-flash', 'safety_ratings': []}, id='run--7a11d347-e945-411f-a524-b560e8d68827-0', tool_calls=[{'name': 'tavily_search', 'args': {'query': 'Lịch duyệt binh của Việt Nam gần nhất? Có bao nhiêu khối tham gia?'}, 'id': '4bab2ba2-6fb3-4e04-b978-9fff4e5e9bec', 'type': 'tool_call'}], usage_metadata={'input_tokens': 1593, 'output_tokens': 111, 'total_tokens': 1704, 'input_token_details': {'cache_read': 0}, 'output_token_details': {'reasoning': 78}}),\n",
              "  ToolMessage(content=\"{'query': 'Lịch duyệt binh của Việt Nam gần nhất? Có bao nhiêu khối tham gia?', 'follow_up_questions': None, 'answer': None, 'images': [], 'results': [{'url': 'https://www.vietravel.com/vn/am-thuc-kham-pha/thong-tin-le-dieu-binh-duyet-binh-a80-ky-niem-80-nam-quoc-khanh-2-9-nam-2025-v17267.aspx', 'title': 'Cập nhật mới về Lễ diễu binh duyệt binh A80 kỷ niệm 80 năm Quốc ...', 'content': 'Ngày 2/9/2025 đánh dấu một cột mốc đặc biệt – kỷ niệm 80 năm Quốc khánh nước Cộng hòa xã hội chủ nghĩa Việt Nam. Nhn dịp trọng đại này, một lễ diễu binh, duyệt binh quy mô lớn mang tên A80 sẽ được tổ chức, thu hút sự quan tm của hàng triệu người dn trong và ngoài nước. Theo Bộ Tổng Tham mưu đã chỉ đạo Cục Qun huấn - Nhà trường dự thảo chỉ thị tổ chức và huấn luyện lực lượng Qun đội, dn qun tự vệ tham gia diễu binh, diễu hành, duyệt binh trong lễ kỷ niệm (A80) trên cơ sở giữ nguyên các lực lượng, các khối đã tham gia diễu binh, diễu hành kỷ niệm 50 năm Ngày thống nhất đất nước 30/4; xy dựng các khối A80 với sự tham gia của 38 khối diễu binh và diễu hành gồm 11 khối đứng, 27 khối đi.', 'score': 0.7300017, 'raw_content': None}, {'url': 'https://vov.vn/chinh-tri/toan-canh-so-duyet-cap-nha-nuoc-dieu-binh-dieu-hanh-ky-niem-80-nam-quoc-khanh-post1225605.vov', 'title': 'Toàn cảnh sơ duyệt diễu binh diễu hành hôm nay 27/8 - VOV', 'content': 'Khối diễu binh hơn 16.000 người, gồm 43 khối đi, 18 khối đứng cùng 14 khối xe pháo quân sự, đặc chủng của Quân đội, Công an.', 'score': 0.6625569, 'raw_content': None}, {'url': 'https://www.vietnamairlines.com/la/vi/useful-information/travel-guide/dieu-binh-29', 'title': 'Cập nhật mới nhất lễ diễu binh 2/9: Những điểm đổi mới & Lộ trình ...', 'content': 'Theo Báo Dân trí, đội hình diễu binh, diễu hành lần này có hơn 15.680 chiến sĩ tham gia, tổng cộng 61 khối (18 khối đứng và 43 khối đi). Trong', 'score': 0.6549173, 'raw_content': None}, {'url': 'https://baochinhphu.vn/dieu-binh-dieu-hanh-a80-the-hien-khi-the-hao-hung-suc-manh-cua-luc-luong-vu-trang-nhan-dan-102250827234027757.htm', 'title': 'Sơ duyệt Diễu binh, diễu hành A80: Thể hiện khí thế hào hùng, sức ...', 'content': 'Tá»\\\\x91i 27/8, cÃ¡c lá»±c lÆ°á»£ng tham gia diá»\\\\x85u binh, diá»\\\\x85u hÃ\\\\xa0nh táº¡i Lá»\\\\x85 ká»· niá»\\\\x87m 80 nÄ\\\\x83m CÃ¡ch máº¡ng thÃ¡ng TÃ¡m vÃ\\\\xa0 Quá»\\\\x91c khÃ¡nh 2/9 (nhiá»\\\\x87m vá»¥ A80) Ä\\\\x91Ã£ tiáº¿n hÃ\\\\xa0nh sÆ¡ duyá»\\\\x87t táº¡i Quáº£ng trÆ°á»\\\\x9dng Ba Ä\\\\x90Ã¬nh, Thá»§ Ä\\\\x91Ã´ HÃ\\\\xa0 Ná»\\\\x99i. Tham dá»± chÆ°Æ¡ng trÃ¬nh sÆ¡ duyá»\\\\x87t cÃ³ cÃ¡c Ä\\\\x91á»\\\\x93ng chÃ\\\\xad á»¦y viÃªn Bá»\\\\x99 ChÃ\\\\xadnh trá»\\\\x8b: Nguyá»\\\\x85n Trá»\\\\x8dng NghÄ©a, BÃ\\\\xad thÆ° Trung Æ°Æ¡ng Ä\\\\x90áº£ng, TrÆ°á»\\\\x9fng ban TuyÃªn giÃ¡o vÃ\\\\xa0 DÃ¢n váº\\\\xadn Trung Æ°Æ¡ng, PhÃ³ TrÆ°á»\\\\x9fng ban ThÆ°á»\\\\x9dng trá»±c Ban chá»\\\\x89 Ä\\\\x91áº¡o Trung Æ°Æ¡ng ká»· niá»\\\\x87m cÃ¡c ngÃ\\\\xa0y lá»\\\\x85 lá»\\\\x9bn vÃ\\\\xa0 cÃ¡c sá»± kiá»\\\\x87n quan trá»\\\\x8dng cá»§a Ä\\\\x91áº¥t nÆ°á»\\\\x9bc; Ä\\\\x90áº¡i tÆ°á»\\\\x9bng Phan VÄ\\\\x83n Giang, PhÃ³ BÃ\\\\xad thÆ° QuÃ¢n á»§y Trung Æ°Æ¡ng, Bá»\\\\x99 trÆ°á»\\\\x9fng Bá»\\\\x99 Quá»\\\\x91c phÃ²ng; Ä\\\\x90áº¡i tÆ°á»\\\\x9bng LÆ°Æ¡ng Tam Quang, Bá»\\\\x99 trÆ°á»\\\\x9fng Bá»\\\\x99 CÃ´ng an.', 'score': 0.3644614, 'raw_content': None}], 'response_time': 1.06, 'request_id': 'a080383b-91ab-4c26-bbac-55b07dbb0c1d'}\", name='tavily_search', tool_call_id='4bab2ba2-6fb3-4e04-b978-9fff4e5e9bec'),\n",
              "  AIMessage(content='Việt Nam sẽ tổ chức lễ diễu binh, duyệt binh quy mô lớn mang tên A80 vào ngày 2/9/2025 để kỷ niệm 80 năm Quốc khánh.\\n\\nTheo thông tin sơ bộ, lễ diễu binh, duyệt binh A80 sẽ có sự tham gia của 38 khối diễu binh và diễu hành, bao gồm 11 khối đứng và 27 khối đi. Một số nguồn khác cũng đưa ra con số lên đến hơn 16.000 người tham gia với 43 khối đi, 18 khối đứng cùng 14 khối xe pháo quân sự, đặc chủng của Quân đội, Công an.', additional_kwargs={}, response_metadata={'prompt_feedback': {'block_reason': 0, 'safety_ratings': []}, 'finish_reason': 'STOP', 'model_name': 'gemini-2.5-flash', 'safety_ratings': []}, id='run--d940e64b-0f00-4281-8454-47703b9200e6-0', usage_metadata={'input_tokens': 3258, 'output_tokens': 150, 'total_tokens': 3408, 'input_token_details': {'cache_read': 905}})]}"
            ]
          },
          "metadata": {},
          "execution_count": 70
        }
      ]
    },
    {
      "cell_type": "code",
      "source": [
        "print(result['messages'][-1].content)"
      ],
      "metadata": {
        "colab": {
          "base_uri": "https://localhost:8080/"
        },
        "id": "vkSNihGXq23a",
        "outputId": "c674849f-91cd-4461-8f15-a7920062601f"
      },
      "execution_count": 71,
      "outputs": [
        {
          "output_type": "stream",
          "name": "stdout",
          "text": [
            "Việt Nam sẽ tổ chức lễ diễu binh, duyệt binh quy mô lớn mang tên A80 vào ngày 2/9/2025 để kỷ niệm 80 năm Quốc khánh.\n",
            "\n",
            "Theo thông tin sơ bộ, lễ diễu binh, duyệt binh A80 sẽ có sự tham gia của 38 khối diễu binh và diễu hành, bao gồm 11 khối đứng và 27 khối đi. Một số nguồn khác cũng đưa ra con số lên đến hơn 16.000 người tham gia với 43 khối đi, 18 khối đứng cùng 14 khối xe pháo quân sự, đặc chủng của Quân đội, Công an.\n"
          ]
        }
      ]
    }
  ]
}